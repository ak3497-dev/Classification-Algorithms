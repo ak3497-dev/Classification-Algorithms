{
 "cells": [
  {
   "cell_type": "markdown",
   "metadata": {},
   "source": [
    "# <font color='Blue'>Distance Metrics in Clustering Advanced</font>"
   ]
  },
  {
   "cell_type": "markdown",
   "metadata": {},
   "source": [
    "## <font color='Blue'>Libary: scipy.spatial.distance</font>\n",
    "\n",
    "<b> Available Distance Types </b>\n",
    "\n",
    "‘braycurtis’, ‘canberra’, ‘chebyshev’, ‘cityblock’, ‘correlation’, ‘cosine’, ‘dice’, ‘euclidean’, ‘hamming’, ‘jaccard’, ‘jensenshannon’, ‘kulsinski’, ‘mahalanobis’, ‘matching’, ‘minkowski’, ‘rogerstanimoto’, ‘russellrao’, ‘seuclidean’, ‘sokalmichener’, ‘sokalsneath’, ‘sqeuclidean’, ‘yule’.\n",
    "\n",
    "SCIPY Distances: https://docs.scipy.org/doc/scipy/reference/spatial.distance.html\n",
    "\n",
    "SCIPY Distances: https://docs.scipy.org/doc/scipy/reference/generated/scipy.spatial.distance.squareform.html"
   ]
  },
  {
   "cell_type": "markdown",
   "metadata": {},
   "source": [
    "## <font color='Blue'>Distance Types and Description</font>"
   ]
  },
  {
   "cell_type": "markdown",
   "metadata": {},
   "source": [
    "<b> Euclidean Distance </b>\n",
    "\n",
    "In mathematics, the Euclidean distance or Euclidean metric is the \"ordinary\" straight-line distance between two points in Euclidean space\n",
    "\n",
    "<b> Manhattan Distance (Aka Cityblock or Taxicab distance) </b>\n",
    "\n",
    "The distance between two points is the sum of the absolute differences of their Cartesian coordinates\n",
    "\n",
    "<b> Chebyshev Distance </b>\n",
    "\n",
    "The distance between two vectors is the greatest of their differences along any coordinate dimension\n",
    "\n",
    "<b> Cosine Distance </b>\n",
    "\n",
    "Cosine similarity is a measure of similarity between two non-zero vectors of an inner product space that measures the cosine of the angle between them\n",
    "\n",
    "<b> Hamming Distance </b>\n",
    "\n",
    "The proportion of those vector elements between elements that disagree\n",
    "\n",
    "<b> Jaccard Distance </b>\n",
    "\n",
    "The Jaccard distance is the proportion of those elements that disagree.\n",
    "  \n",
    "<b> Dice Distance </b>\n",
    "\n",
    "The Dice distance is a measure of dissimilarity between boolean elements.\n",
    "\n",
    "<b> Yule Distance </b>\n",
    "\n",
    "The Yule distance is a measure of dissimilarity between boolean elements. "
   ]
  },
  {
   "cell_type": "markdown",
   "metadata": {},
   "source": [
    "## <font color='Blue'>Loading Libraries</font>"
   ]
  },
  {
   "cell_type": "code",
   "execution_count": 7,
   "metadata": {},
   "outputs": [],
   "source": [
    "import numpy as np\n",
    "import pandas as pd\n",
    "import matplotlib.pyplot as plt\n",
    "import seaborn as sn\n",
    "\n",
    "from sklearn.cluster import KMeans\n",
    "from sklearn import metrics\n",
    "from sklearn.preprocessing import StandardScaler\n",
    "from scipy.spatial.distance import pdist\n",
    "from scipy.spatial.distance import squareform\n",
    "\n",
    "import warnings\n",
    "warnings.filterwarnings('ignore')"
   ]
  },
  {
   "cell_type": "markdown",
   "metadata": {},
   "source": [
    "## <font color='Blue'>Loading Data</font>"
   ]
  },
  {
   "cell_type": "code",
   "execution_count": 8,
   "metadata": {},
   "outputs": [
    {
     "data": {
      "text/html": [
       "<div>\n",
       "<style scoped>\n",
       "    .dataframe tbody tr th:only-of-type {\n",
       "        vertical-align: middle;\n",
       "    }\n",
       "\n",
       "    .dataframe tbody tr th {\n",
       "        vertical-align: top;\n",
       "    }\n",
       "\n",
       "    .dataframe thead th {\n",
       "        text-align: right;\n",
       "    }\n",
       "</style>\n",
       "<table border=\"1\" class=\"dataframe\">\n",
       "  <thead>\n",
       "    <tr style=\"text-align: right;\">\n",
       "      <th></th>\n",
       "      <th>income</th>\n",
       "      <th>age</th>\n",
       "    </tr>\n",
       "  </thead>\n",
       "  <tbody>\n",
       "    <tr>\n",
       "      <th>0</th>\n",
       "      <td>41100.0</td>\n",
       "      <td>48.75</td>\n",
       "    </tr>\n",
       "    <tr>\n",
       "      <th>1</th>\n",
       "      <td>54100.0</td>\n",
       "      <td>28.10</td>\n",
       "    </tr>\n",
       "    <tr>\n",
       "      <th>2</th>\n",
       "      <td>47800.0</td>\n",
       "      <td>46.75</td>\n",
       "    </tr>\n",
       "    <tr>\n",
       "      <th>3</th>\n",
       "      <td>19100.0</td>\n",
       "      <td>40.25</td>\n",
       "    </tr>\n",
       "    <tr>\n",
       "      <th>4</th>\n",
       "      <td>18200.0</td>\n",
       "      <td>35.80</td>\n",
       "    </tr>\n",
       "    <tr>\n",
       "      <th>...</th>\n",
       "      <td>...</td>\n",
       "      <td>...</td>\n",
       "    </tr>\n",
       "    <tr>\n",
       "      <th>295</th>\n",
       "      <td>38300.0</td>\n",
       "      <td>46.10</td>\n",
       "    </tr>\n",
       "    <tr>\n",
       "      <th>296</th>\n",
       "      <td>27400.0</td>\n",
       "      <td>44.15</td>\n",
       "    </tr>\n",
       "    <tr>\n",
       "      <th>297</th>\n",
       "      <td>54200.0</td>\n",
       "      <td>28.25</td>\n",
       "    </tr>\n",
       "    <tr>\n",
       "      <th>298</th>\n",
       "      <td>41800.0</td>\n",
       "      <td>44.85</td>\n",
       "    </tr>\n",
       "    <tr>\n",
       "      <th>299</th>\n",
       "      <td>38600.0</td>\n",
       "      <td>39.35</td>\n",
       "    </tr>\n",
       "  </tbody>\n",
       "</table>\n",
       "<p>300 rows × 2 columns</p>\n",
       "</div>"
      ],
      "text/plain": [
       "      income    age\n",
       "0    41100.0  48.75\n",
       "1    54100.0  28.10\n",
       "2    47800.0  46.75\n",
       "3    19100.0  40.25\n",
       "4    18200.0  35.80\n",
       "..       ...    ...\n",
       "295  38300.0  46.10\n",
       "296  27400.0  44.15\n",
       "297  54200.0  28.25\n",
       "298  41800.0  44.85\n",
       "299  38600.0  39.35\n",
       "\n",
       "[300 rows x 2 columns]"
      ]
     },
     "execution_count": 8,
     "metadata": {},
     "output_type": "execute_result"
    }
   ],
   "source": [
    "df = pd.read_csv( \"Income Data.csv\" )\n",
    "df"
   ]
  },
  {
   "cell_type": "markdown",
   "metadata": {},
   "source": [
    "## <font color='Blue'>Normalizing Features</font>"
   ]
  },
  {
   "cell_type": "code",
   "execution_count": 9,
   "metadata": {},
   "outputs": [
    {
     "name": "stdout",
     "output_type": "stream",
     "text": [
      "<class 'numpy.ndarray'>\n"
     ]
    },
    {
     "data": {
      "text/plain": [
       "array([[ 1.3701637 ,  0.09718548],\n",
       "       [-1.3791283 ,  0.90602749],\n",
       "       [ 1.10388844,  0.51405021],\n",
       "       [ 0.23849387, -1.27162408],\n",
       "       [-0.35396857, -1.32762083]])"
      ]
     },
     "execution_count": 9,
     "metadata": {},
     "output_type": "execute_result"
    }
   ],
   "source": [
    "# Normalizing features\n",
    "\n",
    "scaler = StandardScaler()\n",
    "scaled_df = scaler.fit_transform(df[[\"age\", \"income\"]])\n",
    "print(type(scaled_df))\n",
    "scaled_df[0:5]"
   ]
  },
  {
   "cell_type": "markdown",
   "metadata": {},
   "source": [
    "## <font color='Blue'>Calculating Distances</font>"
   ]
  },
  {
   "cell_type": "code",
   "execution_count": 35,
   "metadata": {},
   "outputs": [],
   "source": [
    "euc = pdist(scaled_df , 'euclidean') # Euclidean distance\n",
    "man = pdist(scaled_df , 'cityblock') # Manhattan distance\n",
    "che = pdist(scaled_df , 'chebyshev') # Chebyshev distance\n",
    "ham = pdist(scaled_df , 'hamming')   # Hamming distance [useful for boolean variables only]\n",
    "jac = pdist(scaled_df , 'jaccard')   # Jaccard distance [useful for boolean variables only]\n",
    "dic = pdist(scaled_df , 'dice')      # dice distance    [useful for boolean variables only]  "
   ]
  },
  {
   "cell_type": "code",
   "execution_count": 36,
   "metadata": {},
   "outputs": [
    {
     "name": "stdout",
     "output_type": "stream",
     "text": [
      "euc: \n",
      " [2.87 0.49 1.78 ... 2.34 1.77 0.76] \n",
      "\n",
      "man: \n",
      " [3.56 0.68 2.5  ... 2.98 2.45 0.93] \n",
      "\n",
      "che: \n",
      " [2.75 0.42 1.37 ... 2.21 1.48 0.73] \n",
      "\n",
      "ham: \n",
      " [1. 1. 1. ... 1. 1. 1.] \n",
      "\n",
      "jac: \n",
      " [1. 1. 1. ... 1. 1. 1.] \n",
      "\n",
      "dic: \n",
      " [0. 0. 0. ... 0. 0. 0.] \n",
      "\n"
     ]
    }
   ],
   "source": [
    "print(\"euc:\",\"\\n\",euc.round(2),\"\\n\")\n",
    "print(\"man:\",\"\\n\",man.round(2),\"\\n\")\n",
    "print(\"che:\",\"\\n\",che.round(2),\"\\n\")\n",
    "print(\"ham:\",\"\\n\",ham.round(2),\"\\n\")\n",
    "print(\"jac:\",\"\\n\",jac.round(2),\"\\n\")\n",
    "print(\"dic:\",\"\\n\",dic.round(2),\"\\n\")"
   ]
  },
  {
   "cell_type": "code",
   "execution_count": 37,
   "metadata": {},
   "outputs": [
    {
     "data": {
      "text/plain": [
       "numpy.ndarray"
      ]
     },
     "execution_count": 37,
     "metadata": {},
     "output_type": "execute_result"
    }
   ],
   "source": [
    "type(euc)"
   ]
  },
  {
   "cell_type": "markdown",
   "metadata": {},
   "source": [
    "## <font color='Blue'>Distance Matrices</font>"
   ]
  },
  {
   "cell_type": "code",
   "execution_count": 38,
   "metadata": {},
   "outputs": [
    {
     "data": {
      "text/plain": [
       "array([[0.  , 2.87, 0.49, ..., 2.85, 0.52, 1.26],\n",
       "       [2.87, 0.  , 2.51, ..., 0.02, 2.36, 1.78],\n",
       "       [0.49, 2.51, 0.  , ..., 2.5 , 0.45, 1.14],\n",
       "       ...,\n",
       "       [2.85, 0.02, 2.5 , ..., 0.  , 2.34, 1.77],\n",
       "       [0.52, 2.36, 0.45, ..., 2.34, 0.  , 0.76],\n",
       "       [1.26, 1.78, 1.14, ..., 1.77, 0.76, 0.  ]])"
      ]
     },
     "execution_count": 38,
     "metadata": {},
     "output_type": "execute_result"
    }
   ],
   "source": [
    "seuc = squareform(euc)\n",
    "seuc.round(2)"
   ]
  },
  {
   "cell_type": "code",
   "execution_count": 39,
   "metadata": {},
   "outputs": [
    {
     "data": {
      "text/plain": [
       "array([[0.  , 3.56, 0.68, ..., 3.54, 0.56, 1.41],\n",
       "       [3.56, 0.  , 2.87, ..., 0.03, 3.  , 2.46],\n",
       "       [0.68, 2.87, 0.  , ..., 2.86, 0.63, 1.56],\n",
       "       ...,\n",
       "       [3.54, 0.03, 2.86, ..., 0.  , 2.98, 2.45],\n",
       "       [0.56, 3.  , 0.63, ..., 2.98, 0.  , 0.93],\n",
       "       [1.41, 2.46, 1.56, ..., 2.45, 0.93, 0.  ]])"
      ]
     },
     "execution_count": 39,
     "metadata": {},
     "output_type": "execute_result"
    }
   ],
   "source": [
    "sman = squareform(man)\n",
    "sman.round(2)"
   ]
  },
  {
   "cell_type": "code",
   "execution_count": 40,
   "metadata": {},
   "outputs": [
    {
     "data": {
      "text/plain": [
       "array([[0.  , 2.75, 0.42, ..., 2.73, 0.52, 1.25],\n",
       "       [2.75, 0.  , 2.48, ..., 0.02, 2.23, 1.5 ],\n",
       "       [0.42, 2.48, 0.  , ..., 2.46, 0.37, 0.99],\n",
       "       ...,\n",
       "       [2.73, 0.02, 2.46, ..., 0.  , 2.21, 1.48],\n",
       "       [0.52, 2.23, 0.37, ..., 2.21, 0.  , 0.73],\n",
       "       [1.25, 1.5 , 0.99, ..., 1.48, 0.73, 0.  ]])"
      ]
     },
     "execution_count": 40,
     "metadata": {},
     "output_type": "execute_result"
    }
   ],
   "source": [
    "sche = squareform(che)\n",
    "sche.round(2)"
   ]
  },
  {
   "cell_type": "code",
   "execution_count": 41,
   "metadata": {},
   "outputs": [
    {
     "data": {
      "text/plain": [
       "array([[0., 1., 1., ..., 1., 1., 1.],\n",
       "       [1., 0., 1., ..., 1., 1., 1.],\n",
       "       [1., 1., 0., ..., 1., 1., 1.],\n",
       "       ...,\n",
       "       [1., 1., 1., ..., 0., 1., 1.],\n",
       "       [1., 1., 1., ..., 1., 0., 1.],\n",
       "       [1., 1., 1., ..., 1., 1., 0.]])"
      ]
     },
     "execution_count": 41,
     "metadata": {},
     "output_type": "execute_result"
    }
   ],
   "source": [
    "sham = squareform(ham)\n",
    "sham.round(2)"
   ]
  },
  {
   "cell_type": "code",
   "execution_count": 42,
   "metadata": {},
   "outputs": [
    {
     "data": {
      "text/plain": [
       "array([[0., 1., 1., ..., 1., 1., 1.],\n",
       "       [1., 0., 1., ..., 1., 1., 1.],\n",
       "       [1., 1., 0., ..., 1., 1., 1.],\n",
       "       ...,\n",
       "       [1., 1., 1., ..., 0., 1., 1.],\n",
       "       [1., 1., 1., ..., 1., 0., 1.],\n",
       "       [1., 1., 1., ..., 1., 1., 0.]])"
      ]
     },
     "execution_count": 42,
     "metadata": {},
     "output_type": "execute_result"
    }
   ],
   "source": [
    "sjac = squareform(jac)\n",
    "sjac.round(2)"
   ]
  },
  {
   "cell_type": "code",
   "execution_count": 43,
   "metadata": {},
   "outputs": [
    {
     "data": {
      "text/plain": [
       "array([[0., 0., 0., ..., 0., 0., 0.],\n",
       "       [0., 0., 0., ..., 0., 0., 0.],\n",
       "       [0., 0., 0., ..., 0., 0., 0.],\n",
       "       ...,\n",
       "       [0., 0., 0., ..., 0., 0., 0.],\n",
       "       [0., 0., 0., ..., 0., 0., 0.],\n",
       "       [0., 0., 0., ..., 0., 0., 0.]])"
      ]
     },
     "execution_count": 43,
     "metadata": {},
     "output_type": "execute_result"
    }
   ],
   "source": [
    "sdic = squareform(dic)\n",
    "sdic.round(2)"
   ]
  },
  {
   "cell_type": "markdown",
   "metadata": {},
   "source": [
    "## <font color='Blue'>Using Distance Matrices in Clustering</font>"
   ]
  },
  {
   "cell_type": "code",
   "execution_count": 44,
   "metadata": {},
   "outputs": [],
   "source": [
    "from sklearn.cluster import DBSCAN"
   ]
  },
  {
   "cell_type": "markdown",
   "metadata": {},
   "source": [
    "## <font color='Blue'>Executing Clustering - Usual Approach</font>"
   ]
  },
  {
   "cell_type": "code",
   "execution_count": 45,
   "metadata": {},
   "outputs": [],
   "source": [
    "db = DBSCAN(eps=0.35, min_samples=5).fit(scaled_df)\n",
    "labels = db.labels_"
   ]
  },
  {
   "cell_type": "code",
   "execution_count": 46,
   "metadata": {},
   "outputs": [
    {
     "name": "stdout",
     "output_type": "stream",
     "text": [
      "Estimated number of clusters: 3\n",
      "Estimated number of noise points: 8\n"
     ]
    }
   ],
   "source": [
    "# Clusters and Noise\n",
    "n_clusters_ = len(set(labels)) - (1 if -1 in labels else 0)\n",
    "n_noise_ = list(labels).count(-1)\n",
    "\n",
    "print('Estimated number of clusters: %d' % n_clusters_)\n",
    "print('Estimated number of noise points: %d' % n_noise_)"
   ]
  },
  {
   "cell_type": "markdown",
   "metadata": {},
   "source": [
    "## <font color='Blue'>Validation - Silhoutte Measure</font>"
   ]
  },
  {
   "cell_type": "code",
   "execution_count": 47,
   "metadata": {},
   "outputs": [
    {
     "name": "stdout",
     "output_type": "stream",
     "text": [
      "Silhouette Coefficient: 0.680\n"
     ]
    }
   ],
   "source": [
    "print(\"Silhouette Coefficient: %0.3f\"% metrics.silhouette_score(scaled_df, labels))\n",
    "# Silhouette score between -1 and 1"
   ]
  },
  {
   "cell_type": "markdown",
   "metadata": {},
   "source": [
    "## <font color='Blue'>Cluster Sizes</font>"
   ]
  },
  {
   "cell_type": "code",
   "execution_count": 48,
   "metadata": {},
   "outputs": [
    {
     "name": "stdout",
     "output_type": "stream",
     "text": [
      "clusterid\n",
      "-1      8\n",
      " 0    100\n",
      " 1    100\n",
      " 2     92\n",
      "dtype: int64\n"
     ]
    }
   ],
   "source": [
    "df[\"clusterid\"] = labels\n",
    "cluster_size = df.groupby(['clusterid']).size() \n",
    "print(cluster_size)\n",
    "#Note: -1 indicates noise"
   ]
  },
  {
   "cell_type": "markdown",
   "metadata": {},
   "source": [
    "## <font color='Blue'>Plotting Clusters</font>"
   ]
  },
  {
   "cell_type": "code",
   "execution_count": 49,
   "metadata": {},
   "outputs": [
    {
     "data": {
      "image/png": "[encoded data removed]",
      "text/plain": [
       "<Figure size 339.375x288 with 1 Axes>"
      ]
     },
     "metadata": {
      "needs_background": "light"
     },
     "output_type": "display_data"
    }
   ],
   "source": [
    "markers = ['H','^','.','H']\n",
    "sn.lmplot( \"age\", \"income\",data=df,hue = \"clusterid\",fit_reg=False,markers = markers,size = 4 );"
   ]
  },
  {
   "cell_type": "markdown",
   "metadata": {},
   "source": [
    "## <font color='Blue'>Executing Clustering - Using Distance Matrices</font>\n",
    "\n",
    "Let's use distance input instead of array\n",
    "\n",
    "Why are we learning this - It gives us more flexibility - We can calculate various distances and use it\n",
    "\n",
    "Executing DBSCAN with precomputed distances\n",
    "    add argument metric = 'precomputed'\n",
    "    and instead of passing df, pass distances"
   ]
  },
  {
   "cell_type": "code",
   "execution_count": 50,
   "metadata": {},
   "outputs": [],
   "source": [
    "dbd = DBSCAN(eps=0.35, min_samples=5,metric='precomputed').fit(sman) \n",
    "labelsd = dbd.labels_\n",
    "\n",
    "# When we use pass euclidean distance matrix, it should give exactly same output as passing the array"
   ]
  },
  {
   "cell_type": "code",
   "execution_count": 51,
   "metadata": {},
   "outputs": [
    {
     "name": "stdout",
     "output_type": "stream",
     "text": [
      "Estimated number of clusters: 3\n",
      "Estimated number of noise points: 13\n"
     ]
    }
   ],
   "source": [
    "# Clusters and Noise\n",
    "n_clusters_ = len(set(labelsd)) - (1 if -1 in labelsd else 0)\n",
    "n_noise_ = list(labelsd).count(-1)\n",
    "\n",
    "print('Estimated number of clusters: %d' % n_clusters_)\n",
    "print('Estimated number of noise points: %d' % n_noise_)"
   ]
  },
  {
   "cell_type": "markdown",
   "metadata": {},
   "source": [
    "## <font color='Blue'>Validation - Silhoutte Measure</font>"
   ]
  },
  {
   "cell_type": "code",
   "execution_count": 52,
   "metadata": {},
   "outputs": [
    {
     "name": "stdout",
     "output_type": "stream",
     "text": [
      "Silhouette Coefficient: 0.671\n"
     ]
    }
   ],
   "source": [
    "print(\"Silhouette Coefficient: %0.3f\"% metrics.silhouette_score(scaled_df, labelsd))\n",
    "# Silhouette score between -1 and 1"
   ]
  },
  {
   "cell_type": "markdown",
   "metadata": {},
   "source": [
    "## <font color='Blue'>Attaching Clusters</font>"
   ]
  },
  {
   "cell_type": "code",
   "execution_count": 54,
   "metadata": {},
   "outputs": [
    {
     "name": "stdout",
     "output_type": "stream",
     "text": [
      "clusterid_new\n",
      "-1     13\n",
      " 0    100\n",
      " 1    100\n",
      " 2     87\n",
      "dtype: int64\n"
     ]
    }
   ],
   "source": [
    "df[\"clusterid_new\"] = labelsd\n",
    "cluster_size_new = df.groupby(['clusterid_new']).size() \n",
    "print(cluster_size_new)\n",
    "#Note: -1 indicates noise"
   ]
  },
  {
   "cell_type": "markdown",
   "metadata": {},
   "source": [
    "## <font color='Blue'>Plotting Clusters</font>"
   ]
  },
  {
   "cell_type": "code",
   "execution_count": 55,
   "metadata": {},
   "outputs": [
    {
     "data": {
      "image/png": "[encoded data removed]",
      "text/plain": [
       "<Figure size 365x288 with 1 Axes>"
      ]
     },
     "metadata": {
      "needs_background": "light"
     },
     "output_type": "display_data"
    }
   ],
   "source": [
    "markers = ['H','^','.','+']\n",
    "sn.lmplot( \"age\", \"income\",data=df,hue = \"clusterid_new\",fit_reg=False,markers = markers,size = 4 );"
   ]
  },
  {
   "cell_type": "markdown",
   "metadata": {},
   "source": [
    "Repeat with various distance metrices and see what happens"
   ]
  },
  {
   "cell_type": "code",
   "execution_count": null,
   "metadata": {},
   "outputs": [],
   "source": []
  }
 ],
 "metadata": {
  "kernelspec": {
   "display_name": "Python 3",
   "language": "python",
   "name": "python3"
  },
  "language_info": {
   "codemirror_mode": {
    "name": "ipython",
    "version": 3
   },
   "file_extension": ".py",
   "mimetype": "text/x-python",
   "name": "python",
   "nbconvert_exporter": "python",
   "pygments_lexer": "ipython3",
   "version": "3.7.10"
  }
 },
 "nbformat": 4,
 "nbformat_minor": 4
}
