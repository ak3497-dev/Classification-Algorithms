{
 "cells": [
  {
   "cell_type": "markdown",
   "metadata": {},
   "source": [
    "# <font color='Blue'>Clustering K-Medoids</font>"
   ]
  },
  {
   "cell_type": "markdown",
   "metadata": {},
   "source": [
    "# <font color='Blue'>KMedoids (PAM)</font>\n",
    "\n",
    "The algorithm is less sensitive to outliers tham K-Means. The principle difference between K-Medoids and K-Medians is that K-Medoids uses existed points from input data space as medoids, but median in K-Medians can be unreal object \n",
    "\n",
    "Before you execute this code, please install KMedoids from sklearn. It can be done through the following steps.\n",
    "  \n",
    "  conda install -c conda-forge scikit-learn-extra\n",
    "  Restart Kernel\n",
    "\n",
    "For more information you may visit\n",
    "  https://scikit-learn-extra.readthedocs.io/en/latest/install.html"
   ]
  },
  {
   "cell_type": "markdown",
   "metadata": {},
   "source": [
    "## <font color='Blue'>Loading Libraries</font>"
   ]
  },
  {
   "cell_type": "code",
   "execution_count": 26,
   "metadata": {},
   "outputs": [],
   "source": [
    "import numpy as np\n",
    "import pandas as pd\n",
    "import matplotlib.pyplot as plt\n",
    "import seaborn as sn\n",
    "\n",
    "from sklearn_extra.cluster import KMedoids\n",
    "from sklearn import metrics\n",
    "from sklearn.preprocessing import StandardScaler\n",
    "\n",
    "import warnings\n",
    "warnings.filterwarnings('ignore')"
   ]
  },
  {
   "cell_type": "markdown",
   "metadata": {},
   "source": [
    "## <font color='Blue'>1.0 Clustering - Example 1</font>\n",
    "\n",
    "## <font color='Blue'>1.1 Loading Data</font>\n",
    "\n",
    "Let's us look at an example. We will use a small dataset of customers containing their age and income information. We can \n",
    "understand the customer segments that might exist and the key attributes of each segment\n",
    "\n",
    "Example Data Set - Income Data. CSV"
   ]
  },
  {
   "cell_type": "code",
   "execution_count": 27,
   "metadata": {},
   "outputs": [
    {
     "name": "stdout",
     "output_type": "stream",
     "text": [
      "customers_df information\n",
      "_________________________________________\n",
      "<class 'pandas.core.frame.DataFrame'>\n",
      "RangeIndex: 300 entries, 0 to 299\n",
      "Data columns (total 2 columns):\n",
      " #   Column  Non-Null Count  Dtype  \n",
      "---  ------  --------------  -----  \n",
      " 0   income  300 non-null    float64\n",
      " 1   age     300 non-null    float64\n",
      "dtypes: float64(2)\n",
      "memory usage: 4.8 KB\n",
      "None\n",
      "_________________________________________\n",
      "    income    age\n",
      "0  41100.0  48.75\n",
      "1  54100.0  28.10\n",
      "2  47800.0  46.75\n",
      "3  19100.0  40.25\n",
      "4  18200.0  35.80\n",
      "_________________________________________\n"
     ]
    }
   ],
   "source": [
    "customers_df = pd.read_csv( \"Income Data.csv\" )\n",
    "\n",
    "# Attributes - income and age\n",
    "# No of records - 300\n",
    "print(\"customers_df information\")\n",
    "print(\"_________________________________________\")\n",
    "print(customers_df.info())\n",
    "print(\"_________________________________________\")\n",
    "print(customers_df.head(5))\n",
    "print(\"_________________________________________\")"
   ]
  },
  {
   "cell_type": "markdown",
   "metadata": {},
   "source": [
    "## <font color='Blue'>2.0 Visualize the relationship between  income and age</font>"
   ]
  },
  {
   "cell_type": "code",
   "execution_count": 28,
   "metadata": {},
   "outputs": [
    {
     "data": {
      "image/png": "[encoded data removed]",
      "text/plain": [
       "<Figure size 288x288 with 1 Axes>"
      ]
     },
     "metadata": {
      "needs_background": "light"
     },
     "output_type": "display_data"
    }
   ],
   "source": [
    "# For this purpose scatter plots are useful (when we have few attributes)\n",
    "sn.lmplot( \"age\", \"income\", data=customers_df, fit_reg = False, size = 4 );\n",
    "plt.title( \"Customer Segments Based on Income and Age\");"
   ]
  },
  {
   "cell_type": "markdown",
   "metadata": {},
   "source": [
    "Three segments are observed from the picture\n",
    "\n",
    "      1. On the top-left of the graph, we have low age - high income group\n",
    "      2.On the top-right of the graph, we have high age - medium income group\n",
    "      3.on the bottom of the graph, we have low income group spread across all ages"
   ]
  },
  {
   "cell_type": "markdown",
   "metadata": {},
   "source": [
    "## <font color='Blue'>3.0 K-Medoids clustering </font>\n",
    "\n",
    "<b> Steps in K-Medoids clustering </b>\n",
    "\n",
    "   1. Decide the value of k (Can be fine-tuned later) \n",
    "   2. Choose k centroids randomly\n",
    "   4. Assign observations to K centroids based on distance\n",
    "   5. Adjust the centroid after adding new observations.\n",
    "   6. Reassign the observations to the new centroid.\n",
    "   7. Repeat steps 4 to 6 untill there are no more re-assignments"
   ]
  },
  {
   "cell_type": "markdown",
   "metadata": {},
   "source": [
    "### <font color='Blue'>3.1 Normalizing Features</font>"
   ]
  },
  {
   "cell_type": "code",
   "execution_count": 29,
   "metadata": {},
   "outputs": [
    {
     "name": "stdout",
     "output_type": "stream",
     "text": [
      "<class 'numpy.ndarray'>\n"
     ]
    },
    {
     "data": {
      "text/plain": [
       "list"
      ]
     },
     "execution_count": 29,
     "metadata": {},
     "output_type": "execute_result"
    }
   ],
   "source": [
    "from sklearn.preprocessing import StandardScaler\n",
    "scaler = StandardScaler()\n",
    "scaled_customers_df = scaler.fit_transform(customers_df[[\"age\", \"income\"]] )\n",
    "print(type(scaled_customers_df))\n",
    "scaled_customers_df[0:10]\n",
    "scaled_customers_df = scaled_customers_df.tolist()\n",
    "type(scaled_customers_df)"
   ]
  },
  {
   "cell_type": "markdown",
   "metadata": {},
   "source": [
    "### <font color='Blue'>3.2 Executing k-Medoids</font>"
   ]
  },
  {
   "cell_type": "code",
   "execution_count": 30,
   "metadata": {},
   "outputs": [
    {
     "data": {
      "text/plain": [
       "KMedoids(n_clusters=3)"
      ]
     },
     "execution_count": 30,
     "metadata": {},
     "output_type": "execute_result"
    }
   ],
   "source": [
    "clusters = KMedoids(3)\n",
    "clusters.fit(scaled_customers_df)"
   ]
  },
  {
   "cell_type": "markdown",
   "metadata": {},
   "source": [
    "### <font color='Blue'>3.3 Assigning Cluser Labels</font>"
   ]
  },
  {
   "cell_type": "code",
   "execution_count": 31,
   "metadata": {},
   "outputs": [
    {
     "name": "stdout",
     "output_type": "stream",
     "text": [
      "clusterid\n",
      "0    100\n",
      "1    103\n",
      "2     97\n",
      "dtype: int64\n"
     ]
    }
   ],
   "source": [
    "# Assign the cluster lables\n",
    "customers_df[\"clusterid\"] = clusters.labels_\n",
    "customers_df[0:5]\n",
    "cluster_size = customers_df.groupby(['clusterid']).size() \n",
    "print(cluster_size)"
   ]
  },
  {
   "cell_type": "markdown",
   "metadata": {},
   "source": [
    "### <font color='Blue'>3.4 Validation</font>\n",
    "### <font color='Blue'>3.4.1 Validation - Silhoutee Coefficient</font>"
   ]
  },
  {
   "cell_type": "code",
   "execution_count": 32,
   "metadata": {},
   "outputs": [
    {
     "name": "stdout",
     "output_type": "stream",
     "text": [
      "Silhouette Coefficient: 0.739\n"
     ]
    }
   ],
   "source": [
    "print(\"Silhouette Coefficient: %0.3f\"% metrics.silhouette_score(scaled_customers_df, clusters.labels_))\n",
    "# Silhouette score between -1 and 1"
   ]
  },
  {
   "cell_type": "markdown",
   "metadata": {},
   "source": [
    "### <font color='Blue'>3.4.2 Validation - Calinski-Harabasz index</font>"
   ]
  },
  {
   "cell_type": "code",
   "execution_count": 33,
   "metadata": {},
   "outputs": [
    {
     "name": "stdout",
     "output_type": "stream",
     "text": [
      "Calinski-Harabasz index: 1379.770\n"
     ]
    }
   ],
   "source": [
    "# Higher the better\n",
    "print(\"Calinski-Harabasz index: %0.3f\"% metrics.calinski_harabasz_score(scaled_customers_df, clusters.labels_))"
   ]
  },
  {
   "cell_type": "markdown",
   "metadata": {},
   "source": [
    "### <font color='Blue'>3.5 Plotting Results</font>"
   ]
  },
  {
   "cell_type": "code",
   "execution_count": 34,
   "metadata": {},
   "outputs": [
    {
     "data": {
      "image/png": "[encoded data removed]",
      "text/plain": [
       "<Figure size 339.375x288 with 1 Axes>"
      ]
     },
     "metadata": {
      "needs_background": "light"
     },
     "output_type": "display_data"
    }
   ],
   "source": [
    "# Plotting the customers with their segments\n",
    "markers = ['+','^','.']\n",
    "sn.lmplot( \"age\", \"income\",data=customers_df,hue = \"clusterid\",fit_reg=False,markers = markers,size = 4 );"
   ]
  },
  {
   "cell_type": "markdown",
   "metadata": {},
   "source": [
    "### <font color='Blue'>3.6 Obtaining Cluster Centers and Interpretation</font>"
   ]
  },
  {
   "cell_type": "code",
   "execution_count": 35,
   "metadata": {},
   "outputs": [
    {
     "data": {
      "text/html": [
       "<div>\n",
       "<style scoped>\n",
       "    .dataframe tbody tr th:only-of-type {\n",
       "        vertical-align: middle;\n",
       "    }\n",
       "\n",
       "    .dataframe tbody tr th {\n",
       "        vertical-align: top;\n",
       "    }\n",
       "\n",
       "    .dataframe thead tr th {\n",
       "        text-align: left;\n",
       "    }\n",
       "</style>\n",
       "<table border=\"1\" class=\"dataframe\">\n",
       "  <thead>\n",
       "    <tr>\n",
       "      <th></th>\n",
       "      <th>clusterid</th>\n",
       "      <th colspan=\"2\" halign=\"left\">age</th>\n",
       "      <th colspan=\"2\" halign=\"left\">income</th>\n",
       "      <th>cluster_size</th>\n",
       "    </tr>\n",
       "    <tr>\n",
       "      <th></th>\n",
       "      <th></th>\n",
       "      <th>median</th>\n",
       "      <th>std</th>\n",
       "      <th>median</th>\n",
       "      <th>std</th>\n",
       "      <th></th>\n",
       "    </tr>\n",
       "  </thead>\n",
       "  <tbody>\n",
       "    <tr>\n",
       "      <th>0</th>\n",
       "      <td>0</td>\n",
       "      <td>29.375</td>\n",
       "      <td>0.921458</td>\n",
       "      <td>55200.0</td>\n",
       "      <td>1951.943864</td>\n",
       "      <td>100</td>\n",
       "    </tr>\n",
       "    <tr>\n",
       "      <th>1</th>\n",
       "      <td>1</td>\n",
       "      <td>46.700</td>\n",
       "      <td>2.151559</td>\n",
       "      <td>44300.0</td>\n",
       "      <td>4390.321503</td>\n",
       "      <td>103</td>\n",
       "    </tr>\n",
       "    <tr>\n",
       "      <th>2</th>\n",
       "      <td>2</td>\n",
       "      <td>39.450</td>\n",
       "      <td>3.558665</td>\n",
       "      <td>18200.0</td>\n",
       "      <td>6924.747691</td>\n",
       "      <td>97</td>\n",
       "    </tr>\n",
       "  </tbody>\n",
       "</table>\n",
       "</div>"
      ],
      "text/plain": [
       "  clusterid     age             income              cluster_size\n",
       "             median       std   median          std             \n",
       "0         0  29.375  0.921458  55200.0  1951.943864          100\n",
       "1         1  46.700  2.151559  44300.0  4390.321503          103\n",
       "2         2  39.450  3.558665  18200.0  6924.747691           97"
      ]
     },
     "execution_count": 35,
     "metadata": {},
     "output_type": "execute_result"
    }
   ],
   "source": [
    "result = customers_df.groupby('clusterid')['age','income'].agg( [\"median\",'std'] ).reset_index() \n",
    "result['cluster_size'] = cluster_size\n",
    "result"
   ]
  },
  {
   "cell_type": "markdown",
   "metadata": {},
   "source": [
    "<b> Interpretation </b>\n",
    "\n",
    "    KMedoids and KMeans have similar results on this data\n",
    "\n",
    "    The clusters can be interpreted as follows\n",
    "    Cluster A: Low Age (29) and High Income (55K)\n",
    "    Cluster B: Mid Age (39) and Low Income  (18K)\n",
    "    Cluster C: High Age (46) and Medium Income (43K)   "
   ]
  },
  {
   "cell_type": "code",
   "execution_count": null,
   "metadata": {},
   "outputs": [],
   "source": []
  }
 ],
 "metadata": {
  "kernelspec": {
   "display_name": "Python 3 (ipykernel)",
   "language": "python",
   "name": "python3"
  },
  "language_info": {
   "codemirror_mode": {
    "name": "ipython",
    "version": 3
   },
   "file_extension": ".py",
   "mimetype": "text/x-python",
   "name": "python",
   "nbconvert_exporter": "python",
   "pygments_lexer": "ipython3",
   "version": "3.9.7"
  }
 },
 "nbformat": 4,
 "nbformat_minor": 4
}
